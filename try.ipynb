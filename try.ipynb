{
 "cells": [
  {
   "cell_type": "markdown",
   "id": "d0adda58",
   "metadata": {},
   "source": [
    "## **Trying Out**"
   ]
  },
  {
   "cell_type": "code",
   "execution_count": null,
   "id": "6effc6e3",
   "metadata": {},
   "outputs": [],
   "source": [
    "import numpy as np\n",
    "import pandas as pd\n",
    "import matplotlib.pyplot as plt\n",
    "import seaborn as sns"
   ]
  },
  {
   "cell_type": "code",
   "execution_count": null,
   "id": "74765de4",
   "metadata": {},
   "outputs": [],
   "source": [
    "df = pd.read_csv(\n",
    "    'fcc-forum-pageviews.csv',\n",
    "    dtype={'value': 'int'},\n",
    "    parse_dates=[0],\n",
    "    index_col=[0]\n",
    ")\n",
    "df"
   ]
  },
  {
   "cell_type": "code",
   "execution_count": null,
   "id": "a6ffe63f",
   "metadata": {},
   "outputs": [],
   "source": [
    "# data cleaning\n",
    "df = df.loc[\n",
    "    (df['value'] <= df['value'].quantile(0.975)) &\n",
    "    (df['value'] >= df['value'].quantile(0.025))\n",
    "]\n",
    "df.size"
   ]
  },
  {
   "cell_type": "code",
   "execution_count": null,
   "id": "16947505",
   "metadata": {},
   "outputs": [],
   "source": [
    "# Line Graph\n",
    "df_line = df.copy()\n",
    "fig1, ax1 = plt.subplots(figsize=(15, 5))\n",
    "ax1.plot(df_line.index, df_line['value'])\n",
    "ax1.set_title('Daily freeCodeCamp Forum Page Views 5/2016-12/2019')\n",
    "ax1.set_ylabel('Page Views')\n",
    "ax1.set_xlabel('Date')"
   ]
  },
  {
   "cell_type": "code",
   "execution_count": null,
   "id": "2feb0d88",
   "metadata": {},
   "outputs": [],
   "source": [
    "# Bar Graph\n",
    "df_bar = df.copy()\n",
    "# create new columns\n",
    "df_bar['Year'] = df_bar.index.year\n",
    "df_bar['Month'] = df_bar.index.month\n",
    "bar_graph = df_bar.groupby(['Year', 'Month'])['value'].mean().unstack()\n",
    "bar_graph"
   ]
  },
  {
   "cell_type": "code",
   "execution_count": null,
   "id": "9413d506",
   "metadata": {},
   "outputs": [],
   "source": [
    "fig2, ax2 = plt.subplots(figsize=(10, 6))\n",
    "bar_graph.plot(kind='bar', ax=ax2)\n",
    "ax2.set_ylabel('Average Page Views')\n",
    "ax2.set_xlabel('Years')\n",
    "ax2.legend(\n",
    "    title='Months',\n",
    "    labels=['January', 'February', 'March', 'April', 'May', 'June', 'July', 'August', 'September', 'October', 'November', 'December']\n",
    ")"
   ]
  },
  {
   "cell_type": "code",
   "execution_count": null,
   "id": "882349db",
   "metadata": {},
   "outputs": [],
   "source": [
    "# box plots\n",
    "df_box = df.copy()\n",
    "df_box.reset_index(inplace=True)\n",
    "df_box['year'] = [d.year for d in df_box.date]\n",
    "df_box['month'] = [d.strftime('%b') for d in df_box.date]\n",
    "df_box"
   ]
  },
  {
   "cell_type": "code",
   "execution_count": null,
   "id": "2fc58817",
   "metadata": {},
   "outputs": [],
   "source": [
    "fig, ax = plt.subplots(1, 2, figsize=(15, 6))\n",
    "# first plot\n",
    "sns.boxplot(\n",
    "    data=df_box,\n",
    "    x='year',\n",
    "    y='value',\n",
    "    ax=ax[0]\n",
    ")\n",
    "ax[0].set_title('Year-wise Box Plot (Trend)')\n",
    "ax[0].set_xlabel('Year')\n",
    "ax[0].set_ylabel('Page Views')\n",
    "\n",
    "# second plot\n",
    "order = ['Jan','Feb','Mar','Apr','May','Jun','Jul','Aug','Sep','Oct','Nov','Dec']\n",
    "sns.boxplot(\n",
    "    data=df_box,\n",
    "    x='month',\n",
    "    y='value',\n",
    "    ax=ax[1],\n",
    "    order=order\n",
    ")\n",
    "ax[1].set_title('Month-wise Box Plot (Seasonality)')\n",
    "ax[1].set_xlabel('Month')\n",
    "ax[1].set_ylabel('Page Views')"
   ]
  }
 ],
 "metadata": {
  "kernelspec": {
   "display_name": "Python 3",
   "language": "python",
   "name": "python3"
  },
  "language_info": {
   "codemirror_mode": {
    "name": "ipython",
    "version": 3
   },
   "file_extension": ".py",
   "mimetype": "text/x-python",
   "name": "python",
   "nbconvert_exporter": "python",
   "pygments_lexer": "ipython3",
   "version": "3.13.5"
  }
 },
 "nbformat": 4,
 "nbformat_minor": 5
}
